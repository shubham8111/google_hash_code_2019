{
  "nbformat": 4,
  "nbformat_minor": 0,
  "metadata": {
    "colab": {
      "name": "upload.ipynb",
      "version": "0.3.2",
      "provenance": []
    },
    "kernelspec": {
      "name": "python3",
      "display_name": "Python 3"
    },
    "accelerator": "GPU"
  },
  "cells": [
    {
      "metadata": {
        "id": "MPrMM48n-g6C",
        "colab_type": "code",
        "outputId": "cc01cc76-96b1-42cd-accf-d14cb83d8d60",
        "colab": {
          "base_uri": "https://localhost:8080/",
          "height": 34
        }
      },
      "cell_type": "code",
      "source": [
        "file = \"c_memorable_moments.txt\"\n",
        "infile = open(file,'r')\n",
        "pics = {}\n",
        "count = 0\n",
        "count = infile.readline()\n",
        "count = int(count)\n",
        "for idx, line in enumerate(infile):\n",
        "    line = line.strip().split(\" \")\n",
        "    pics[idx] = line\n",
        "print (count)\n",
        "maxl = len(pics)\n",
        "    "
      ],
      "execution_count": 77,
      "outputs": [
        {
          "output_type": "stream",
          "text": [
            "1000\n"
          ],
          "name": "stdout"
        }
      ]
    },
    {
      "metadata": {
        "id": "t4Nc-5uz-g6L",
        "colab_type": "code",
        "outputId": "824cbb0a-dd90-4c05-a308-d6c4b488e41e",
        "colab": {
          "base_uri": "https://localhost:8080/",
          "height": 51
        }
      },
      "cell_type": "code",
      "source": [
        "H_pics = {}\n",
        "V_pics = {}\n",
        "for key, pic in pics.items():\n",
        "    if pic[0] == 'H':\n",
        "        H_pics[key]  = pic\n",
        "    else:\n",
        "        V_pics[key]  = pic\n",
        "print(len(H_pics))\n",
        "print(len(V_pics))"
      ],
      "execution_count": 78,
      "outputs": [
        {
          "output_type": "stream",
          "text": [
            "500\n",
            "500\n"
          ],
          "name": "stdout"
        }
      ]
    },
    {
      "metadata": {
        "id": "gyfi8hJP-g6Q",
        "colab_type": "code",
        "colab": {}
      },
      "cell_type": "code",
      "source": [
        "def get_score(slides, pics):\n",
        "    score = 0\n",
        "    for i in range(len(slides)-1):\n",
        "        s1 = set(pics[slides[i]][2:])\n",
        "        s2 = set(pics[slides[i+1]][2:])\n",
        "        common  = len(s1 & s2)\n",
        "        score = score + min(common, len(s1) - common, len(s2) - common)\n",
        "        #print(score)\n",
        "    return score"
      ],
      "execution_count": 0,
      "outputs": []
    },
    {
      "metadata": {
        "id": "AJz01HMB-g6q",
        "colab_type": "code",
        "colab": {}
      },
      "cell_type": "code",
      "source": [
        "def get_most_uncommon(available):\n",
        "    i = available[0]\n",
        "    s1 = set(pics[i][2:])\n",
        "    available.remove(i)\n",
        "    un_idx = available[0]\n",
        "    least_common = len(s1)\n",
        "    for idx in available:\n",
        "        s2 = set(pics[idx][2:])\n",
        "        common = len(s1 & s2)\n",
        "        if common< least_common:\n",
        "            least_common = common\n",
        "            un_idx = idx\n",
        "    return i, un_idx\n",
        "    "
      ],
      "execution_count": 0,
      "outputs": []
    },
    {
      "metadata": {
        "id": "9eoiLAmz-g6u",
        "colab_type": "code",
        "colab": {}
      },
      "cell_type": "code",
      "source": [
        "#REMOVING VERTICALS\n",
        "available = list(V_pics.keys())\n",
        "#print(available)\n",
        "while len(available) > 1:\n",
        "    a , b = get_most_uncommon(available)\n",
        "    available.remove(b)\n",
        "    s1 = set(pics[a][2:])\n",
        "    s2 = set(pics[b][2:])\n",
        "    s = list(s1.union(s2))\n",
        "    s = [\"H\"] + [str(len(s))] + s\n",
        "    del pics[a]\n",
        "    del pics[b]\n",
        "    pics[(a,b)] = s\n",
        "    \n",
        "\n"
      ],
      "execution_count": 0,
      "outputs": []
    },
    {
      "metadata": {
        "id": "iXqvVXSd-g6U",
        "colab_type": "code",
        "outputId": "0affff22-d901-48c4-b6a7-1afe5426098a",
        "colab": {
          "base_uri": "https://localhost:8080/",
          "height": 34
        }
      },
      "cell_type": "code",
      "source": [
        "#print(pics)\n",
        "from random import shuffle\n",
        "A = list(pics.keys())\n",
        "shuffle(A)\n",
        "print(\"random_score:\",get_score(A, pics))\n"
      ],
      "execution_count": 82,
      "outputs": [
        {
          "output_type": "stream",
          "text": [
            "random_score: 131\n"
          ],
          "name": "stdout"
        }
      ]
    },
    {
      "metadata": {
        "id": "jXtH6y0s-g6Z",
        "colab_type": "code",
        "colab": {}
      },
      "cell_type": "code",
      "source": [
        "def get_best_next(i, available):\n",
        "    max_score = 0\n",
        "    best_index = available[0]\n",
        "    s1 = set(pics[i][2:])\n",
        "    for nxt in available:\n",
        "        try:\n",
        "            s2 = set(pics[nxt][2:])\n",
        "        except:\n",
        "            print(\"excepting\",pics[nxt][2:])\n",
        "        common  = len(s1 & s2)\n",
        "        score = min(common, len(s1) - common, len(s2) - common)\n",
        "        if score > max_score:\n",
        "            max_score = score\n",
        "            best_index = nxt\n",
        "    return best_index\n",
        "\n",
        "def get_len(elem):\n",
        "    return pics[elem][1]\n",
        "  \n",
        "  "
      ],
      "execution_count": 0,
      "outputs": []
    },
    {
      "metadata": {
        "id": "rsi3GoLq-g6d",
        "colab_type": "code",
        "outputId": "b0e64db5-4120-4a3c-b0f6-9f977e0aa267",
        "colab": {
          "base_uri": "https://localhost:8080/",
          "height": 51
        }
      },
      "cell_type": "code",
      "source": [
        "slides = []\n",
        "keys = sorted(pics.keys(), key=get_len)\n",
        "#print(keys)\n",
        "l  = len(keys)\n",
        "if l > 10000:\n",
        "  incr = l//10\n",
        "else:\n",
        "  incr = l\n",
        "\n",
        "for i in range(0 ,l ,incr):\n",
        "    available = keys[i:min(l,incr)]\n",
        "    current = available[0]\n",
        "    available.remove(current)\n",
        "    #print(available)\n",
        "    slides.append(current)\n",
        "    while len(available) > 0:\n",
        "        best = get_best_next(current, available)\n",
        "        slides.append(best)\n",
        "        if best in available:\n",
        "            available.remove(best)\n",
        "        else:\n",
        "            print(\"best\", best)\n",
        "            #print(\"slides\", slides)\n",
        "        current = best\n",
        "    print(\"current_score:\",get_score(slides, pics))\n",
        "\n",
        "fs = get_score(slides, pics)    \n",
        "print(\"final_score\",fs)"
      ],
      "execution_count": 84,
      "outputs": [
        {
          "output_type": "stream",
          "text": [
            "current_score: 1480\n",
            "final_score 1480\n"
          ],
          "name": "stdout"
        }
      ]
    },
    {
      "metadata": {
        "id": "CoNH8FA3-g6i",
        "colab_type": "code",
        "colab": {}
      },
      "cell_type": "code",
      "source": [
        "outfile = open(file[:-4] +\"_\"+ str(fs) + \".txt\", \"w\")\n",
        "outfile.write(str(len(slides)) + \"\\n\")\n",
        "for s in slides:\n",
        "    if type(s) is int:\n",
        "        outfile.write(str(s) + \"\\n\")\n",
        "    else:\n",
        "        a , b = s\n",
        "        outfile.write(str(a) + \" \"+str(b) + \"\\n\")\n",
        "outfile.close()"
      ],
      "execution_count": 0,
      "outputs": []
    },
    {
      "metadata": {
        "id": "TcQbl0bC-g6l",
        "colab_type": "code",
        "outputId": "32590247-21b8-4e39-94f6-9935b2c0b52f",
        "colab": {
          "base_uri": "https://localhost:8080/",
          "height": 34
        }
      },
      "cell_type": "code",
      "source": [
        "get_score(slides, pics)"
      ],
      "execution_count": 58,
      "outputs": [
        {
          "output_type": "execute_result",
          "data": {
            "text/plain": [
              "1"
            ]
          },
          "metadata": {
            "tags": []
          },
          "execution_count": 58
        }
      ]
    },
    {
      "metadata": {
        "id": "QflJCV57-g7F",
        "colab_type": "code",
        "colab": {}
      },
      "cell_type": "code",
      "source": [
        ""
      ],
      "execution_count": 0,
      "outputs": []
    }
  ]
}